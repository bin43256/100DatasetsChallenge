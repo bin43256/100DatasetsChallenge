{
 "cells": [
  {
   "cell_type": "markdown",
   "metadata": {},
   "source": [
    "### This notebook explores the building energy dataset provided by Arlington County, the exploratory questions were ask and answer in following:\n",
    "* How much total energy is consumed every 6 years?\n",
    "* What percentage of the total energy consumption comes from each calendar year?\n",
    "* Which locations are the top energy consumers?\n",
    "* How does energy usage grow year over year, and what is the annual percentage increase?\n",
    "* What is the energy usage per square foot across different locations?\n",
    "* What is the cumulative energy consumption over every 3-year period?\n",
    "\n"
   ]
  },
  {
   "cell_type": "code",
   "execution_count": 15,
   "metadata": {},
   "outputs": [],
   "source": [
    "import pandas as pd\n",
    "import matplotlib.pyplot as plt"
   ]
  },
  {
   "cell_type": "code",
   "execution_count": 3,
   "metadata": {},
   "outputs": [
    {
     "data": {
      "text/html": [
       "<div>\n",
       "<style scoped>\n",
       "    .dataframe tbody tr th:only-of-type {\n",
       "        vertical-align: middle;\n",
       "    }\n",
       "\n",
       "    .dataframe tbody tr th {\n",
       "        vertical-align: top;\n",
       "    }\n",
       "\n",
       "    .dataframe thead th {\n",
       "        text-align: right;\n",
       "    }\n",
       "</style>\n",
       "<table border=\"1\" class=\"dataframe\">\n",
       "  <thead>\n",
       "    <tr style=\"text-align: right;\">\n",
       "      <th></th>\n",
       "      <th>Place Code</th>\n",
       "      <th>Place Name</th>\n",
       "      <th>Address</th>\n",
       "      <th>Year</th>\n",
       "      <th>Complete Year</th>\n",
       "      <th>Floor Area (square feet)</th>\n",
       "      <th>Electric (KWH)</th>\n",
       "      <th>Natural Gas (Therm)</th>\n",
       "      <th>Use Type</th>\n",
       "    </tr>\n",
       "  </thead>\n",
       "  <tbody>\n",
       "    <tr>\n",
       "      <th>0</th>\n",
       "      <td>ARLINGTONMILL</td>\n",
       "      <td>Arlington Mill</td>\n",
       "      <td>909 S Dinwiddie St, Arlington, VA</td>\n",
       "      <td>2012</td>\n",
       "      <td>false</td>\n",
       "      <td>72335.0</td>\n",
       "      <td>0</td>\n",
       "      <td>1.2</td>\n",
       "      <td>Community-Rec-Center</td>\n",
       "    </tr>\n",
       "    <tr>\n",
       "      <th>1</th>\n",
       "      <td>ARLINGTONMILL</td>\n",
       "      <td>Arlington Mill</td>\n",
       "      <td>909 S Dinwiddie St, Arlington, VA</td>\n",
       "      <td>2013</td>\n",
       "      <td>true</td>\n",
       "      <td>72335.0</td>\n",
       "      <td>992280</td>\n",
       "      <td>41661.3</td>\n",
       "      <td>Community-Rec-Center</td>\n",
       "    </tr>\n",
       "    <tr>\n",
       "      <th>2</th>\n",
       "      <td>ARLINGTONMILL</td>\n",
       "      <td>Arlington Mill</td>\n",
       "      <td>909 S Dinwiddie St, Arlington, VA</td>\n",
       "      <td>2014</td>\n",
       "      <td>true</td>\n",
       "      <td>72335.0</td>\n",
       "      <td>1243080</td>\n",
       "      <td>33748</td>\n",
       "      <td>Community-Rec-Center</td>\n",
       "    </tr>\n",
       "    <tr>\n",
       "      <th>3</th>\n",
       "      <td>ARLINGTONMILL</td>\n",
       "      <td>Arlington Mill</td>\n",
       "      <td>909 S Dinwiddie St, Arlington, VA</td>\n",
       "      <td>2015</td>\n",
       "      <td>true</td>\n",
       "      <td>72335.0</td>\n",
       "      <td>1143580</td>\n",
       "      <td>26507.1</td>\n",
       "      <td>Community-Rec-Center</td>\n",
       "    </tr>\n",
       "    <tr>\n",
       "      <th>4</th>\n",
       "      <td>ARLINGTONMILL</td>\n",
       "      <td>Arlington Mill</td>\n",
       "      <td>909 S Dinwiddie St, Arlington, VA</td>\n",
       "      <td>2016</td>\n",
       "      <td>true</td>\n",
       "      <td>72335.0</td>\n",
       "      <td>1099520</td>\n",
       "      <td>23836.9</td>\n",
       "      <td>Community-Rec-Center</td>\n",
       "    </tr>\n",
       "  </tbody>\n",
       "</table>\n",
       "</div>"
      ],
      "text/plain": [
       "      Place Code      Place Name                            Address  Year  \\\n",
       "0  ARLINGTONMILL  Arlington Mill  909 S Dinwiddie St, Arlington, VA  2012   \n",
       "1  ARLINGTONMILL  Arlington Mill  909 S Dinwiddie St, Arlington, VA  2013   \n",
       "2  ARLINGTONMILL  Arlington Mill  909 S Dinwiddie St, Arlington, VA  2014   \n",
       "3  ARLINGTONMILL  Arlington Mill  909 S Dinwiddie St, Arlington, VA  2015   \n",
       "4  ARLINGTONMILL  Arlington Mill  909 S Dinwiddie St, Arlington, VA  2016   \n",
       "\n",
       "  Complete Year  Floor Area (square feet) Electric (KWH) Natural Gas (Therm)  \\\n",
       "0         false                   72335.0              0                 1.2   \n",
       "1          true                   72335.0         992280             41661.3   \n",
       "2          true                   72335.0        1243080               33748   \n",
       "3          true                   72335.0        1143580             26507.1   \n",
       "4          true                   72335.0        1099520             23836.9   \n",
       "\n",
       "               Use Type  \n",
       "0  Community-Rec-Center  \n",
       "1  Community-Rec-Center  \n",
       "2  Community-Rec-Center  \n",
       "3  Community-Rec-Center  \n",
       "4  Community-Rec-Center  "
      ]
     },
     "execution_count": 3,
     "metadata": {},
     "output_type": "execute_result"
    }
   ],
   "source": [
    "building_energy = pd.read_json(\"Data Source\\Building+Energy+Usage.json\")\n",
    "building_energy.head()"
   ]
  },
  {
   "cell_type": "code",
   "execution_count": 4,
   "metadata": {},
   "outputs": [
    {
     "data": {
      "text/html": [
       "<div>\n",
       "<style scoped>\n",
       "    .dataframe tbody tr th:only-of-type {\n",
       "        vertical-align: middle;\n",
       "    }\n",
       "\n",
       "    .dataframe tbody tr th {\n",
       "        vertical-align: top;\n",
       "    }\n",
       "\n",
       "    .dataframe thead th {\n",
       "        text-align: right;\n",
       "    }\n",
       "</style>\n",
       "<table border=\"1\" class=\"dataframe\">\n",
       "  <thead>\n",
       "    <tr style=\"text-align: right;\">\n",
       "      <th></th>\n",
       "      <th>Year</th>\n",
       "      <th>Floor Area (square feet)</th>\n",
       "    </tr>\n",
       "  </thead>\n",
       "  <tbody>\n",
       "    <tr>\n",
       "      <th>count</th>\n",
       "      <td>1362.000000</td>\n",
       "      <td>1.362000e+03</td>\n",
       "    </tr>\n",
       "    <tr>\n",
       "      <th>mean</th>\n",
       "      <td>2009.602056</td>\n",
       "      <td>5.349489e+04</td>\n",
       "    </tr>\n",
       "    <tr>\n",
       "      <th>std</th>\n",
       "      <td>5.321709</td>\n",
       "      <td>1.421370e+05</td>\n",
       "    </tr>\n",
       "    <tr>\n",
       "      <th>min</th>\n",
       "      <td>2000.000000</td>\n",
       "      <td>1.000000e+03</td>\n",
       "    </tr>\n",
       "    <tr>\n",
       "      <th>25%</th>\n",
       "      <td>2005.000000</td>\n",
       "      <td>5.000000e+03</td>\n",
       "    </tr>\n",
       "    <tr>\n",
       "      <th>50%</th>\n",
       "      <td>2010.000000</td>\n",
       "      <td>1.411800e+04</td>\n",
       "    </tr>\n",
       "    <tr>\n",
       "      <th>75%</th>\n",
       "      <td>2014.000000</td>\n",
       "      <td>2.940400e+04</td>\n",
       "    </tr>\n",
       "    <tr>\n",
       "      <th>max</th>\n",
       "      <td>2018.000000</td>\n",
       "      <td>1.050000e+06</td>\n",
       "    </tr>\n",
       "  </tbody>\n",
       "</table>\n",
       "</div>"
      ],
      "text/plain": [
       "              Year  Floor Area (square feet)\n",
       "count  1362.000000              1.362000e+03\n",
       "mean   2009.602056              5.349489e+04\n",
       "std       5.321709              1.421370e+05\n",
       "min    2000.000000              1.000000e+03\n",
       "25%    2005.000000              5.000000e+03\n",
       "50%    2010.000000              1.411800e+04\n",
       "75%    2014.000000              2.940400e+04\n",
       "max    2018.000000              1.050000e+06"
      ]
     },
     "execution_count": 4,
     "metadata": {},
     "output_type": "execute_result"
    }
   ],
   "source": [
    "building_energy.describe()"
   ]
  },
  {
   "cell_type": "code",
   "execution_count": 5,
   "metadata": {},
   "outputs": [
    {
     "name": "stdout",
     "output_type": "stream",
     "text": [
      "<class 'pandas.core.frame.DataFrame'>\n",
      "RangeIndex: 1362 entries, 0 to 1361\n",
      "Data columns (total 9 columns):\n",
      " #   Column                    Non-Null Count  Dtype  \n",
      "---  ------                    --------------  -----  \n",
      " 0   Place Code                1362 non-null   object \n",
      " 1   Place Name                1362 non-null   object \n",
      " 2   Address                   1362 non-null   object \n",
      " 3   Year                      1362 non-null   int64  \n",
      " 4   Complete Year             1362 non-null   object \n",
      " 5   Floor Area (square feet)  1362 non-null   float64\n",
      " 6   Electric (KWH)            1362 non-null   object \n",
      " 7   Natural Gas (Therm)       1362 non-null   object \n",
      " 8   Use Type                  1362 non-null   object \n",
      "dtypes: float64(1), int64(1), object(7)\n",
      "memory usage: 95.9+ KB\n"
     ]
    }
   ],
   "source": [
    "building_energy.info()"
   ]
  },
  {
   "cell_type": "code",
   "execution_count": 6,
   "metadata": {},
   "outputs": [
    {
     "name": "stdout",
     "output_type": "stream",
     "text": [
      "This dataset is updated from 2000 to 2018\n"
     ]
    }
   ],
   "source": [
    "print(f'This dataset is updated from {building_energy.Year.min()} to {building_energy.Year.max()}')"
   ]
  },
  {
   "cell_type": "markdown",
   "metadata": {},
   "source": [
    "#### Replace true and false for [Complete Year] to 1 and 0"
   ]
  },
  {
   "cell_type": "code",
   "execution_count": 7,
   "metadata": {},
   "outputs": [],
   "source": [
    "building_energy['Complete Year'].replace({'true':1,'false':0},inplace=True)\n"
   ]
  },
  {
   "cell_type": "markdown",
   "metadata": {},
   "source": [
    "#### Create new column [total_energy_use] and set data type to integer for energy columns"
   ]
  },
  {
   "cell_type": "code",
   "execution_count": 8,
   "metadata": {},
   "outputs": [
    {
     "data": {
      "text/plain": [
       "0              1.2\n",
       "1        1033941.3\n",
       "2        1276828.0\n",
       "3        1170087.1\n",
       "4        1123356.9\n",
       "           ...    \n",
       "1357    27506566.3\n",
       "1358    27311741.2\n",
       "1359    28431574.0\n",
       "1360    28907456.0\n",
       "1361    29872025.3\n",
       "Name: total_energy_use, Length: 1355, dtype: float64"
      ]
     },
     "execution_count": 8,
     "metadata": {},
     "output_type": "execute_result"
    }
   ],
   "source": [
    "building_energy['Electric (KWH)'] = pd.to_numeric(building_energy['Electric (KWH)'], errors='coerce')\n",
    "building_energy['Natural Gas (Therm)'] = pd.to_numeric(building_energy['Natural Gas (Therm)'], errors='coerce')\n",
    "building_energy.dropna(inplace= True)\n",
    "building_energy['total_energy_use'] = building_energy['Electric (KWH)'] + building_energy['Natural Gas (Therm)']\n",
    "building_energy['total_energy_use']\n"
   ]
  },
  {
   "cell_type": "markdown",
   "metadata": {},
   "source": [
    "#### Total energy consumption every 6 years"
   ]
  },
  {
   "cell_type": "code",
   "execution_count": 9,
   "metadata": {},
   "outputs": [
    {
     "name": "stderr",
     "output_type": "stream",
     "text": [
      "C:\\Users\\binch\\AppData\\Local\\Temp\\ipykernel_24620\\2201620613.py:5: FutureWarning: Indexing with multiple keys (implicitly converted to a tuple of keys) will be deprecated, use a list instead.\n",
      "  building_energy.groupby('year_range')['Electric (KWH)','Natural Gas (Therm)'].sum().reset_index()\n"
     ]
    },
    {
     "data": {
      "text/html": [
       "<div>\n",
       "<style scoped>\n",
       "    .dataframe tbody tr th:only-of-type {\n",
       "        vertical-align: middle;\n",
       "    }\n",
       "\n",
       "    .dataframe tbody tr th {\n",
       "        vertical-align: top;\n",
       "    }\n",
       "\n",
       "    .dataframe thead th {\n",
       "        text-align: right;\n",
       "    }\n",
       "</style>\n",
       "<table border=\"1\" class=\"dataframe\">\n",
       "  <thead>\n",
       "    <tr style=\"text-align: right;\">\n",
       "      <th></th>\n",
       "      <th>year_range</th>\n",
       "      <th>Electric (KWH)</th>\n",
       "      <th>Natural Gas (Therm)</th>\n",
       "    </tr>\n",
       "  </thead>\n",
       "  <tbody>\n",
       "    <tr>\n",
       "      <th>0</th>\n",
       "      <td>2000-2005</td>\n",
       "      <td>2.951576e+08</td>\n",
       "      <td>3.698284e+06</td>\n",
       "    </tr>\n",
       "    <tr>\n",
       "      <th>1</th>\n",
       "      <td>2006-2011</td>\n",
       "      <td>4.469285e+08</td>\n",
       "      <td>4.952710e+06</td>\n",
       "    </tr>\n",
       "    <tr>\n",
       "      <th>2</th>\n",
       "      <td>2012-2018</td>\n",
       "      <td>4.494207e+08</td>\n",
       "      <td>5.630612e+06</td>\n",
       "    </tr>\n",
       "  </tbody>\n",
       "</table>\n",
       "</div>"
      ],
      "text/plain": [
       "  year_range  Electric (KWH)  Natural Gas (Therm)\n",
       "0  2000-2005    2.951576e+08         3.698284e+06\n",
       "1  2006-2011    4.469285e+08         4.952710e+06\n",
       "2  2012-2018    4.494207e+08         5.630612e+06"
      ]
     },
     "execution_count": 9,
     "metadata": {},
     "output_type": "execute_result"
    }
   ],
   "source": [
    "bins = [2000, 2005, 2011, 2018]\n",
    "labels = ['2000-2005', '2006-2011', '2012-2018'] \n",
    "\n",
    "building_energy['year_range'] = pd.cut(building_energy['Year'], bins=bins, labels=labels, right=True)\n",
    "building_energy.groupby('year_range')['Electric (KWH)','Natural Gas (Therm)'].sum().reset_index()"
   ]
  },
  {
   "cell_type": "markdown",
   "metadata": {},
   "source": [
    "#### Every year's energy contribution in percentage to total energy use"
   ]
  },
  {
   "cell_type": "code",
   "execution_count": 10,
   "metadata": {},
   "outputs": [
    {
     "data": {
      "text/html": [
       "<div>\n",
       "<style scoped>\n",
       "    .dataframe tbody tr th:only-of-type {\n",
       "        vertical-align: middle;\n",
       "    }\n",
       "\n",
       "    .dataframe tbody tr th {\n",
       "        vertical-align: top;\n",
       "    }\n",
       "\n",
       "    .dataframe thead th {\n",
       "        text-align: right;\n",
       "    }\n",
       "</style>\n",
       "<table border=\"1\" class=\"dataframe\">\n",
       "  <thead>\n",
       "    <tr style=\"text-align: right;\">\n",
       "      <th></th>\n",
       "      <th>Year</th>\n",
       "      <th>pct_to_total</th>\n",
       "    </tr>\n",
       "  </thead>\n",
       "  <tbody>\n",
       "    <tr>\n",
       "      <th>0</th>\n",
       "      <td>2014</td>\n",
       "      <td>0.0638</td>\n",
       "    </tr>\n",
       "    <tr>\n",
       "      <th>1</th>\n",
       "      <td>2015</td>\n",
       "      <td>0.0635</td>\n",
       "    </tr>\n",
       "    <tr>\n",
       "      <th>2</th>\n",
       "      <td>2013</td>\n",
       "      <td>0.0634</td>\n",
       "    </tr>\n",
       "    <tr>\n",
       "      <th>3</th>\n",
       "      <td>2009</td>\n",
       "      <td>0.0625</td>\n",
       "    </tr>\n",
       "    <tr>\n",
       "      <th>4</th>\n",
       "      <td>2008</td>\n",
       "      <td>0.0623</td>\n",
       "    </tr>\n",
       "    <tr>\n",
       "      <th>5</th>\n",
       "      <td>2007</td>\n",
       "      <td>0.0620</td>\n",
       "    </tr>\n",
       "    <tr>\n",
       "      <th>6</th>\n",
       "      <td>2010</td>\n",
       "      <td>0.0613</td>\n",
       "    </tr>\n",
       "    <tr>\n",
       "      <th>7</th>\n",
       "      <td>2011</td>\n",
       "      <td>0.0602</td>\n",
       "    </tr>\n",
       "    <tr>\n",
       "      <th>8</th>\n",
       "      <td>2012</td>\n",
       "      <td>0.0602</td>\n",
       "    </tr>\n",
       "    <tr>\n",
       "      <th>9</th>\n",
       "      <td>2006</td>\n",
       "      <td>0.0551</td>\n",
       "    </tr>\n",
       "  </tbody>\n",
       "</table>\n",
       "</div>"
      ],
      "text/plain": [
       "   Year  pct_to_total\n",
       "0  2014        0.0638\n",
       "1  2015        0.0635\n",
       "2  2013        0.0634\n",
       "3  2009        0.0625\n",
       "4  2008        0.0623\n",
       "5  2007        0.0620\n",
       "6  2010        0.0613\n",
       "7  2011        0.0602\n",
       "8  2012        0.0602\n",
       "9  2006        0.0551"
      ]
     },
     "execution_count": 10,
     "metadata": {},
     "output_type": "execute_result"
    }
   ],
   "source": [
    "total_energy_use = building_energy['total_energy_use'].sum()\n",
    "yr_total_energy_pct = building_energy.groupby('Year')['total_energy_use'].sum().reset_index()\n",
    "yr_total_energy_pct['pct_to_total'] = (yr_total_energy_pct['total_energy_use']/total_energy_use).round(4)\n",
    "yr_total_energy_pct[['Year','pct_to_total']].sort_values(by='pct_to_total', ascending=False)[:10].reset_index(drop=True)"
   ]
  },
  {
   "cell_type": "markdown",
   "metadata": {},
   "source": [
    "#### Place with highest sum of electric consumption"
   ]
  },
  {
   "cell_type": "code",
   "execution_count": 11,
   "metadata": {},
   "outputs": [
    {
     "data": {
      "text/html": [
       "<div>\n",
       "<style scoped>\n",
       "    .dataframe tbody tr th:only-of-type {\n",
       "        vertical-align: middle;\n",
       "    }\n",
       "\n",
       "    .dataframe tbody tr th {\n",
       "        vertical-align: top;\n",
       "    }\n",
       "\n",
       "    .dataframe thead th {\n",
       "        text-align: right;\n",
       "    }\n",
       "</style>\n",
       "<table border=\"1\" class=\"dataframe\">\n",
       "  <thead>\n",
       "    <tr style=\"text-align: right;\">\n",
       "      <th></th>\n",
       "      <th>Place Name</th>\n",
       "      <th>Electric (KWH)</th>\n",
       "    </tr>\n",
       "  </thead>\n",
       "  <tbody>\n",
       "    <tr>\n",
       "      <th>0</th>\n",
       "      <td>Water Pollution Control Plant</td>\n",
       "      <td>4.219595e+08</td>\n",
       "    </tr>\n",
       "    <tr>\n",
       "      <th>1</th>\n",
       "      <td>Courts Police</td>\n",
       "      <td>1.053404e+08</td>\n",
       "    </tr>\n",
       "    <tr>\n",
       "      <th>2</th>\n",
       "      <td>Detention Center (Jail)</td>\n",
       "      <td>1.013482e+08</td>\n",
       "    </tr>\n",
       "    <tr>\n",
       "      <th>3</th>\n",
       "      <td>Courthouse Plaza</td>\n",
       "      <td>9.424237e+07</td>\n",
       "    </tr>\n",
       "    <tr>\n",
       "      <th>4</th>\n",
       "      <td>OLD - 3033 Wilson</td>\n",
       "      <td>5.519260e+07</td>\n",
       "    </tr>\n",
       "    <tr>\n",
       "      <th>5</th>\n",
       "      <td>Ballston Ice Rink</td>\n",
       "      <td>5.309820e+07</td>\n",
       "    </tr>\n",
       "    <tr>\n",
       "      <th>6</th>\n",
       "      <td>Ballston Garage</td>\n",
       "      <td>3.590862e+07</td>\n",
       "    </tr>\n",
       "    <tr>\n",
       "      <th>7</th>\n",
       "      <td>Central Library</td>\n",
       "      <td>3.516310e+07</td>\n",
       "    </tr>\n",
       "    <tr>\n",
       "      <th>8</th>\n",
       "      <td>Sequoia I</td>\n",
       "      <td>3.084996e+07</td>\n",
       "    </tr>\n",
       "    <tr>\n",
       "      <th>9</th>\n",
       "      <td>Court Square West</td>\n",
       "      <td>2.474000e+07</td>\n",
       "    </tr>\n",
       "  </tbody>\n",
       "</table>\n",
       "</div>"
      ],
      "text/plain": [
       "                      Place Name  Electric (KWH)\n",
       "0  Water Pollution Control Plant    4.219595e+08\n",
       "1                  Courts Police    1.053404e+08\n",
       "2        Detention Center (Jail)    1.013482e+08\n",
       "3               Courthouse Plaza    9.424237e+07\n",
       "4              OLD - 3033 Wilson    5.519260e+07\n",
       "5              Ballston Ice Rink    5.309820e+07\n",
       "6                Ballston Garage    3.590862e+07\n",
       "7                Central Library    3.516310e+07\n",
       "8                      Sequoia I    3.084996e+07\n",
       "9              Court Square West    2.474000e+07"
      ]
     },
     "execution_count": 11,
     "metadata": {},
     "output_type": "execute_result"
    }
   ],
   "source": [
    "building_energy.groupby('Place Name')['Electric (KWH)'].sum().reset_index().sort_values('Electric (KWH)', ascending=False)[:10].reset_index(drop=True)"
   ]
  },
  {
   "cell_type": "markdown",
   "metadata": {},
   "source": [
    "##### By use type"
   ]
  },
  {
   "cell_type": "code",
   "execution_count": 12,
   "metadata": {},
   "outputs": [
    {
     "data": {
      "text/html": [
       "<div>\n",
       "<style scoped>\n",
       "    .dataframe tbody tr th:only-of-type {\n",
       "        vertical-align: middle;\n",
       "    }\n",
       "\n",
       "    .dataframe tbody tr th {\n",
       "        vertical-align: top;\n",
       "    }\n",
       "\n",
       "    .dataframe thead th {\n",
       "        text-align: right;\n",
       "    }\n",
       "</style>\n",
       "<table border=\"1\" class=\"dataframe\">\n",
       "  <thead>\n",
       "    <tr style=\"text-align: right;\">\n",
       "      <th></th>\n",
       "      <th>Use Type</th>\n",
       "      <th>Electric (KWH)</th>\n",
       "    </tr>\n",
       "  </thead>\n",
       "  <tbody>\n",
       "    <tr>\n",
       "      <th>0</th>\n",
       "      <td>Specialty</td>\n",
       "      <td>4.887798e+08</td>\n",
       "    </tr>\n",
       "    <tr>\n",
       "      <th>1</th>\n",
       "      <td>Public-Safety</td>\n",
       "      <td>2.446213e+08</td>\n",
       "    </tr>\n",
       "    <tr>\n",
       "      <th>2</th>\n",
       "      <td>Offices</td>\n",
       "      <td>1.536670e+08</td>\n",
       "    </tr>\n",
       "    <tr>\n",
       "      <th>3</th>\n",
       "      <td>Community-Rec-Center</td>\n",
       "      <td>1.455654e+08</td>\n",
       "    </tr>\n",
       "    <tr>\n",
       "      <th>4</th>\n",
       "      <td>Human-Services</td>\n",
       "      <td>9.034353e+07</td>\n",
       "    </tr>\n",
       "    <tr>\n",
       "      <th>5</th>\n",
       "      <td>Libraries</td>\n",
       "      <td>4.146826e+07</td>\n",
       "    </tr>\n",
       "    <tr>\n",
       "      <th>6</th>\n",
       "      <td>Parking-Garage</td>\n",
       "      <td>3.460246e+07</td>\n",
       "    </tr>\n",
       "    <tr>\n",
       "      <th>7</th>\n",
       "      <td>Residential-Housing</td>\n",
       "      <td>2.070171e+07</td>\n",
       "    </tr>\n",
       "    <tr>\n",
       "      <th>8</th>\n",
       "      <td>Storage</td>\n",
       "      <td>6.072106e+06</td>\n",
       "    </tr>\n",
       "    <tr>\n",
       "      <th>9</th>\n",
       "      <td>Transit-Operations</td>\n",
       "      <td>3.032940e+06</td>\n",
       "    </tr>\n",
       "  </tbody>\n",
       "</table>\n",
       "</div>"
      ],
      "text/plain": [
       "               Use Type  Electric (KWH)\n",
       "0             Specialty    4.887798e+08\n",
       "1         Public-Safety    2.446213e+08\n",
       "2               Offices    1.536670e+08\n",
       "3  Community-Rec-Center    1.455654e+08\n",
       "4        Human-Services    9.034353e+07\n",
       "5             Libraries    4.146826e+07\n",
       "6        Parking-Garage    3.460246e+07\n",
       "7   Residential-Housing    2.070171e+07\n",
       "8               Storage    6.072106e+06\n",
       "9    Transit-Operations    3.032940e+06"
      ]
     },
     "execution_count": 12,
     "metadata": {},
     "output_type": "execute_result"
    }
   ],
   "source": [
    "building_energy.groupby('Use Type')['Electric (KWH)'].sum().reset_index().sort_values('Electric (KWH)', ascending=False).reset_index(drop=True)"
   ]
  },
  {
   "cell_type": "markdown",
   "metadata": {},
   "source": [
    "#### Find % increases on electric & natural gas every year"
   ]
  },
  {
   "cell_type": "code",
   "execution_count": 18,
   "metadata": {},
   "outputs": [
    {
     "data": {
      "text/plain": [
       "<matplotlib.legend.Legend at 0x2d1ce857810>"
      ]
     },
     "execution_count": 18,
     "metadata": {},
     "output_type": "execute_result"
    },
    {
     "data": {
      "image/png": "[encoded data removed]",
      "text/plain": [
       "<Figure size 1000x600 with 1 Axes>"
      ]
     },
     "metadata": {},
     "output_type": "display_data"
    }
   ],
   "source": [
    "\n",
    "group_by_year = building_energy.groupby('Year')[['Electric (KWH)','Natural Gas (Therm)']].sum()\n",
    "pct_change = group_by_year.pct_change()\n",
    "pct_change.columns = ['electric%_incr', 'natural_gas%_incr']\n",
    "electric_incr_yr = pct_change[pct_change['electric%_incr'] > 0 ][['electric%_incr']]\n",
    "gas_incr_yr = pct_change[pct_change['natural_gas%_incr'] > 0 ][['natural_gas%_incr']]\n",
    "plt.figure(figsize=(10, 6))\n",
    "plt.plot(electric_incr_yr, label='Electric % Increase')\n",
    "plt.plot(gas_incr_yr, label='Natural Gas % Increase')\n",
    "plt.legend()\n"
   ]
  },
  {
   "cell_type": "code",
   "execution_count": 21,
   "metadata": {},
   "outputs": [
    {
     "data": {
      "text/plain": [
       "<Axes: xlabel='Year'>"
      ]
     },
     "execution_count": 21,
     "metadata": {},
     "output_type": "execute_result"
    },
    {
     "data": {
      "image/png": "[encoded data removed]",
      "text/plain": [
       "<Figure size 640x480 with 1 Axes>"
      ]
     },
     "metadata": {},
     "output_type": "display_data"
    }
   ],
   "source": [
    "avg_per_yr = building_energy.groupby('Year')['total_energy_use'].mean().reset_index()\n",
    "avg_per_yr.plot(kind='area', x='Year')"
   ]
  },
  {
   "cell_type": "markdown",
   "metadata": {},
   "source": [
    "#### Total energy use per square feet group by place"
   ]
  },
  {
   "cell_type": "code",
   "execution_count": 18,
   "metadata": {},
   "outputs": [
    {
     "data": {
      "text/html": [
       "<div>\n",
       "<style scoped>\n",
       "    .dataframe tbody tr th:only-of-type {\n",
       "        vertical-align: middle;\n",
       "    }\n",
       "\n",
       "    .dataframe tbody tr th {\n",
       "        vertical-align: top;\n",
       "    }\n",
       "\n",
       "    .dataframe thead th {\n",
       "        text-align: right;\n",
       "    }\n",
       "</style>\n",
       "<table border=\"1\" class=\"dataframe\">\n",
       "  <thead>\n",
       "    <tr style=\"text-align: right;\">\n",
       "      <th></th>\n",
       "      <th>Place Name</th>\n",
       "      <th>energy_per_sq_ft</th>\n",
       "    </tr>\n",
       "  </thead>\n",
       "  <tbody>\n",
       "    <tr>\n",
       "      <th>0</th>\n",
       "      <td>ART Bus Facility</td>\n",
       "      <td>1866.89</td>\n",
       "    </tr>\n",
       "    <tr>\n",
       "      <th>1</th>\n",
       "      <td>Argus House</td>\n",
       "      <td>438.89</td>\n",
       "    </tr>\n",
       "    <tr>\n",
       "      <th>10</th>\n",
       "      <td>Ballston Ice Rink</td>\n",
       "      <td>387.58</td>\n",
       "    </tr>\n",
       "    <tr>\n",
       "      <th>2</th>\n",
       "      <td>Arlington Arts</td>\n",
       "      <td>347.25</td>\n",
       "    </tr>\n",
       "    <tr>\n",
       "      <th>8</th>\n",
       "      <td>Aurora Hills Complex</td>\n",
       "      <td>264.11</td>\n",
       "    </tr>\n",
       "    <tr>\n",
       "      <th>3</th>\n",
       "      <td>Arlington Daycare</td>\n",
       "      <td>235.15</td>\n",
       "    </tr>\n",
       "    <tr>\n",
       "      <th>5</th>\n",
       "      <td>Arlington Mill - OLD</td>\n",
       "      <td>232.74</td>\n",
       "    </tr>\n",
       "    <tr>\n",
       "      <th>7</th>\n",
       "      <td>Artisphere</td>\n",
       "      <td>148.10</td>\n",
       "    </tr>\n",
       "    <tr>\n",
       "      <th>6</th>\n",
       "      <td>Arlington Visitor Center</td>\n",
       "      <td>109.30</td>\n",
       "    </tr>\n",
       "    <tr>\n",
       "      <th>4</th>\n",
       "      <td>Arlington Mill</td>\n",
       "      <td>92.92</td>\n",
       "    </tr>\n",
       "    <tr>\n",
       "      <th>9</th>\n",
       "      <td>Ballston Garage</td>\n",
       "      <td>34.20</td>\n",
       "    </tr>\n",
       "  </tbody>\n",
       "</table>\n",
       "</div>"
      ],
      "text/plain": [
       "                  Place Name  energy_per_sq_ft\n",
       "0           ART Bus Facility           1866.89\n",
       "1                Argus House            438.89\n",
       "10         Ballston Ice Rink            387.58\n",
       "2             Arlington Arts            347.25\n",
       "8       Aurora Hills Complex            264.11\n",
       "3          Arlington Daycare            235.15\n",
       "5       Arlington Mill - OLD            232.74\n",
       "7                 Artisphere            148.10\n",
       "6   Arlington Visitor Center            109.30\n",
       "4             Arlington Mill             92.92\n",
       "9            Ballston Garage             34.20"
      ]
     },
     "execution_count": 18,
     "metadata": {},
     "output_type": "execute_result"
    }
   ],
   "source": [
    "sum_energy_use = building_energy.groupby('Place Name')['total_energy_use'].sum().reset_index(name='sum_energy')\n",
    "drop_duplicate_df = building_energy.drop_duplicates(subset=['Place Name'])\n",
    "sum_energy_use = sum_energy_use.merge(drop_duplicate_df,on='Place Name')\n",
    "\n",
    "sum_energy_use['energy_per_sq_ft'] = (sum_energy_use['sum_energy'] / sum_energy_use['Floor Area (square feet)']).round(2)\n",
    "sum_energy_use.loc[:10,['Place Name','energy_per_sq_ft']].sort_values(by='energy_per_sq_ft', ascending=False)"
   ]
  },
  {
   "cell_type": "markdown",
   "metadata": {},
   "source": [
    "#### Energy use cumulate by every three years"
   ]
  },
  {
   "cell_type": "code",
   "execution_count": 36,
   "metadata": {},
   "outputs": [
    {
     "data": {
      "text/html": [
       "<div>\n",
       "<style scoped>\n",
       "    .dataframe tbody tr th:only-of-type {\n",
       "        vertical-align: middle;\n",
       "    }\n",
       "\n",
       "    .dataframe tbody tr th {\n",
       "        vertical-align: top;\n",
       "    }\n",
       "\n",
       "    .dataframe thead th {\n",
       "        text-align: right;\n",
       "    }\n",
       "</style>\n",
       "<table border=\"1\" class=\"dataframe\">\n",
       "  <thead>\n",
       "    <tr style=\"text-align: right;\">\n",
       "      <th></th>\n",
       "      <th>total_energy_use</th>\n",
       "    </tr>\n",
       "    <tr>\n",
       "      <th>Year</th>\n",
       "      <th></th>\n",
       "    </tr>\n",
       "  </thead>\n",
       "  <tbody>\n",
       "    <tr>\n",
       "      <th>2000</th>\n",
       "      <td>NaN</td>\n",
       "    </tr>\n",
       "    <tr>\n",
       "      <th>2001</th>\n",
       "      <td>NaN</td>\n",
       "    </tr>\n",
       "    <tr>\n",
       "      <th>2002</th>\n",
       "      <td>1.511236e+08</td>\n",
       "    </tr>\n",
       "    <tr>\n",
       "      <th>2003</th>\n",
       "      <td>1.742726e+08</td>\n",
       "    </tr>\n",
       "    <tr>\n",
       "      <th>2004</th>\n",
       "      <td>1.769116e+08</td>\n",
       "    </tr>\n",
       "    <tr>\n",
       "      <th>2005</th>\n",
       "      <td>1.856837e+08</td>\n",
       "    </tr>\n",
       "    <tr>\n",
       "      <th>2006</th>\n",
       "      <td>1.931576e+08</td>\n",
       "    </tr>\n",
       "    <tr>\n",
       "      <th>2007</th>\n",
       "      <td>2.114527e+08</td>\n",
       "    </tr>\n",
       "    <tr>\n",
       "      <th>2008</th>\n",
       "      <td>2.230808e+08</td>\n",
       "    </tr>\n",
       "    <tr>\n",
       "      <th>2009</th>\n",
       "      <td>2.321974e+08</td>\n",
       "    </tr>\n",
       "    <tr>\n",
       "      <th>2010</th>\n",
       "      <td>2.313917e+08</td>\n",
       "    </tr>\n",
       "    <tr>\n",
       "      <th>2011</th>\n",
       "      <td>2.288004e+08</td>\n",
       "    </tr>\n",
       "    <tr>\n",
       "      <th>2012</th>\n",
       "      <td>2.259482e+08</td>\n",
       "    </tr>\n",
       "    <tr>\n",
       "      <th>2013</th>\n",
       "      <td>2.285482e+08</td>\n",
       "    </tr>\n",
       "    <tr>\n",
       "      <th>2014</th>\n",
       "      <td>2.330206e+08</td>\n",
       "    </tr>\n",
       "    <tr>\n",
       "      <th>2015</th>\n",
       "      <td>2.371251e+08</td>\n",
       "    </tr>\n",
       "    <tr>\n",
       "      <th>2016</th>\n",
       "      <td>2.060006e+08</td>\n",
       "    </tr>\n",
       "    <tr>\n",
       "      <th>2017</th>\n",
       "      <td>1.743259e+08</td>\n",
       "    </tr>\n",
       "    <tr>\n",
       "      <th>2018</th>\n",
       "      <td>1.430875e+08</td>\n",
       "    </tr>\n",
       "  </tbody>\n",
       "</table>\n",
       "</div>"
      ],
      "text/plain": [
       "      total_energy_use\n",
       "Year                  \n",
       "2000               NaN\n",
       "2001               NaN\n",
       "2002      1.511236e+08\n",
       "2003      1.742726e+08\n",
       "2004      1.769116e+08\n",
       "2005      1.856837e+08\n",
       "2006      1.931576e+08\n",
       "2007      2.114527e+08\n",
       "2008      2.230808e+08\n",
       "2009      2.321974e+08\n",
       "2010      2.313917e+08\n",
       "2011      2.288004e+08\n",
       "2012      2.259482e+08\n",
       "2013      2.285482e+08\n",
       "2014      2.330206e+08\n",
       "2015      2.371251e+08\n",
       "2016      2.060006e+08\n",
       "2017      1.743259e+08\n",
       "2018      1.430875e+08"
      ]
     },
     "execution_count": 36,
     "metadata": {},
     "output_type": "execute_result"
    }
   ],
   "source": [
    "building_energy.groupby('Year')['total_energy_use'].sum().rolling(3).sum().reset_index().set_index('Year')"
   ]
  }
 ],
 "metadata": {
  "kernelspec": {
   "display_name": "base",
   "language": "python",
   "name": "python3"
  },
  "language_info": {
   "codemirror_mode": {
    "name": "ipython",
    "version": 3
   },
   "file_extension": ".py",
   "mimetype": "text/x-python",
   "name": "python",
   "nbconvert_exporter": "python",
   "pygments_lexer": "ipython3",
   "version": "3.11.4"
  }
 },
 "nbformat": 4,
 "nbformat_minor": 2
}
